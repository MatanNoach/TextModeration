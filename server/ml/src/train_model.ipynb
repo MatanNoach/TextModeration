{
 "cells": [
  {
   "cell_type": "code",
   "execution_count": 8,
   "metadata": {},
   "outputs": [],
   "source": [
    "import pandas as pd\n",
    "import numpy as np\n",
    "import tensorflow as tf\n",
    "from os import path\n",
    "import pickle\n",
    "\n",
    "BASE_DATASET_PATH = \"..\\\\datasets\"\n",
    "TRAIN_DATASET_PATH = path.join(BASE_DATASET_PATH,\"train_processed.csv\")\n",
    "TEST_DATASET_PATH = path.join(BASE_DATASET_PATH,\"test_processed.csv\")\n",
    "DATA_COLUMNS = [\"comment_text\"]\n",
    "LABEL_COLUMNS = [\"toxic\",'severe_toxic','obscene','threat','insult','identity_hate']"
   ]
  },
  {
   "cell_type": "code",
   "execution_count": 2,
   "metadata": {},
   "outputs": [
    {
     "data": {
      "text/html": [
       "<div>\n",
       "<style scoped>\n",
       "    .dataframe tbody tr th:only-of-type {\n",
       "        vertical-align: middle;\n",
       "    }\n",
       "\n",
       "    .dataframe tbody tr th {\n",
       "        vertical-align: top;\n",
       "    }\n",
       "\n",
       "    .dataframe thead th {\n",
       "        text-align: right;\n",
       "    }\n",
       "</style>\n",
       "<table border=\"1\" class=\"dataframe\">\n",
       "  <thead>\n",
       "    <tr style=\"text-align: right;\">\n",
       "      <th></th>\n",
       "      <th>id</th>\n",
       "      <th>comment_text</th>\n",
       "      <th>toxic</th>\n",
       "      <th>severe_toxic</th>\n",
       "      <th>obscene</th>\n",
       "      <th>threat</th>\n",
       "      <th>insult</th>\n",
       "      <th>identity_hate</th>\n",
       "    </tr>\n",
       "  </thead>\n",
       "  <tbody>\n",
       "    <tr>\n",
       "      <th>0</th>\n",
       "      <td>0000997932d777bf</td>\n",
       "      <td>explanation edits made username hardcore metal...</td>\n",
       "      <td>0</td>\n",
       "      <td>0</td>\n",
       "      <td>0</td>\n",
       "      <td>0</td>\n",
       "      <td>0</td>\n",
       "      <td>0</td>\n",
       "    </tr>\n",
       "    <tr>\n",
       "      <th>1</th>\n",
       "      <td>000103f0d9cfb60f</td>\n",
       "      <td>daww match background colour im seemingly stuc...</td>\n",
       "      <td>0</td>\n",
       "      <td>0</td>\n",
       "      <td>0</td>\n",
       "      <td>0</td>\n",
       "      <td>0</td>\n",
       "      <td>0</td>\n",
       "    </tr>\n",
       "    <tr>\n",
       "      <th>2</th>\n",
       "      <td>000113f07ec002fd</td>\n",
       "      <td>hey man im really trying edit war guy constant...</td>\n",
       "      <td>0</td>\n",
       "      <td>0</td>\n",
       "      <td>0</td>\n",
       "      <td>0</td>\n",
       "      <td>0</td>\n",
       "      <td>0</td>\n",
       "    </tr>\n",
       "    <tr>\n",
       "      <th>3</th>\n",
       "      <td>0001b41b1c6bb37e</td>\n",
       "      <td>cant make real suggestion improvement wondered...</td>\n",
       "      <td>0</td>\n",
       "      <td>0</td>\n",
       "      <td>0</td>\n",
       "      <td>0</td>\n",
       "      <td>0</td>\n",
       "      <td>0</td>\n",
       "    </tr>\n",
       "    <tr>\n",
       "      <th>4</th>\n",
       "      <td>0001d958c54c6e35</td>\n",
       "      <td>sir hero chance remember page thats</td>\n",
       "      <td>0</td>\n",
       "      <td>0</td>\n",
       "      <td>0</td>\n",
       "      <td>0</td>\n",
       "      <td>0</td>\n",
       "      <td>0</td>\n",
       "    </tr>\n",
       "  </tbody>\n",
       "</table>\n",
       "</div>"
      ],
      "text/plain": [
       "                 id                                       comment_text  toxic  \\\n",
       "0  0000997932d777bf  explanation edits made username hardcore metal...      0   \n",
       "1  000103f0d9cfb60f  daww match background colour im seemingly stuc...      0   \n",
       "2  000113f07ec002fd  hey man im really trying edit war guy constant...      0   \n",
       "3  0001b41b1c6bb37e  cant make real suggestion improvement wondered...      0   \n",
       "4  0001d958c54c6e35                sir hero chance remember page thats      0   \n",
       "\n",
       "   severe_toxic  obscene  threat  insult  identity_hate  \n",
       "0             0        0       0       0              0  \n",
       "1             0        0       0       0              0  \n",
       "2             0        0       0       0              0  \n",
       "3             0        0       0       0              0  \n",
       "4             0        0       0       0              0  "
      ]
     },
     "execution_count": 2,
     "metadata": {},
     "output_type": "execute_result"
    }
   ],
   "source": [
    "train_dataset = pd.read_csv(TRAIN_DATASET_PATH)\n",
    "train_dataset.head()"
   ]
  },
  {
   "cell_type": "code",
   "execution_count": 3,
   "metadata": {},
   "outputs": [],
   "source": [
    "def fix_dataset_type(dataset):\n",
    "    cols = dataset.select_dtypes(include=['object'])\n",
    "    for col in cols.columns.values:\n",
    "        dataset[col] = dataset[col].fillna('')\n",
    "    return dataset\n",
    "train_dataset = fix_dataset_type(train_dataset)"
   ]
  },
  {
   "cell_type": "code",
   "execution_count": 4,
   "metadata": {},
   "outputs": [
    {
     "data": {
      "text/plain": [
       "array(['explanation edits made username hardcore metallica fan reverted werent vandalism closure gas voted new york doll fac please dont remove template talk page since im retired now892053827',\n",
       "       'daww match background colour im seemingly stuck thanks talk 2151 january 11 2016 utc',\n",
       "       'hey man im really trying edit war guy constantly removing relevant information talking edits instead talk page seems care formatting actual info',\n",
       "       ...,\n",
       "       'spitzer umm there actual article prostitution ring crunch captain',\n",
       "       'look like actually put speedy first version deleted look',\n",
       "       'really dont think understand came idea bad right away kind community go bad idea go away instead helping rewrite'],\n",
       "      dtype=object)"
      ]
     },
     "execution_count": 4,
     "metadata": {},
     "output_type": "execute_result"
    }
   ],
   "source": [
    "x_train = np.array(train_dataset[DATA_COLUMNS])\n",
    "y_train = np.array(train_dataset[LABEL_COLUMNS])\n",
    "x_train = x_train.flatten()\n",
    "x_train"
   ]
  },
  {
   "cell_type": "code",
   "execution_count": 5,
   "metadata": {},
   "outputs": [],
   "source": [
    "from keras.layers import TextVectorization\n",
    "\n",
    "vectorizer = TextVectorization(output_sequence_length=1800,output_mode='int')\n",
    "vectorizer.adapt(x_train)\n"
   ]
  },
  {
   "cell_type": "code",
   "execution_count": 7,
   "metadata": {},
   "outputs": [
    {
     "data": {
      "text/plain": [
       "245355"
      ]
     },
     "execution_count": 7,
     "metadata": {},
     "output_type": "execute_result"
    }
   ],
   "source": [
    "# Note - On windows this might not work due to encoding problem.\n",
    "# In order to fix that, you need to go to language settings -> Administrative language settings -> Change system locale -> and set checkbox of \"Use Unicode UTF-8...\"\n",
    "MAX_FEATURES = len(vectorizer.get_vocabulary())\n",
    "MAX_FEATURES"
   ]
  },
  {
   "cell_type": "code",
   "execution_count": null,
   "metadata": {},
   "outputs": [],
   "source": [
    "pickle.dump({\n",
    "    'config':vectorizer.get_config(),\n",
    "    'weights':vectorizer.get_weights()\n",
    "}, open(\"../trained_models/text_vectorizer.pkl\",\"wb\"))"
   ]
  },
  {
   "cell_type": "code",
   "execution_count": 7,
   "metadata": {},
   "outputs": [
    {
     "data": {
      "text/plain": [
       "<tf.Tensor: shape=(159571, 1800), dtype=int64, numpy=\n",
       "array([[   464,     55,     58, ...,      0,      0,      0],\n",
       "       [207879,    966,   1210, ...,      0,      0,      0],\n",
       "       [   322,    321,     16, ...,      0,      0,      0],\n",
       "       ...,\n",
       "       [ 29048,   6754,    278, ...,      0,      0,      0],\n",
       "       [    50,      9,    125, ...,      0,      0,      0],\n",
       "       [    61,     10,     13, ...,      0,      0,      0]], dtype=int64)>"
      ]
     },
     "execution_count": 7,
     "metadata": {},
     "output_type": "execute_result"
    }
   ],
   "source": [
    "\n",
    "x_train = vectorizer(x_train)\n",
    "x_train"
   ]
  },
  {
   "cell_type": "code",
   "execution_count": 8,
   "metadata": {},
   "outputs": [
    {
     "data": {
      "text/plain": [
       "4987"
      ]
     },
     "execution_count": 8,
     "metadata": {},
     "output_type": "execute_result"
    }
   ],
   "source": [
    "from tensorflow import data\n",
    "SHUFFLE_BUFFER_SIZE=160000\n",
    "BATCH_SIZE = 32\n",
    "PREFETCH=8\n",
    "train_dataset = data.Dataset.from_tensor_slices((x_train,y_train))\n",
    "train_dataset = train_dataset.shuffle(buffer_size=SHUFFLE_BUFFER_SIZE)\n",
    "train_dataset = train_dataset.batch(BATCH_SIZE)\n",
    "train_dataset = train_dataset.prefetch(PREFETCH)\n",
    "len(train_dataset)"
   ]
  },
  {
   "cell_type": "code",
   "execution_count": 9,
   "metadata": {},
   "outputs": [
    {
     "name": "stdout",
     "output_type": "stream",
     "text": [
      "3989\n",
      "797\n"
     ]
    }
   ],
   "source": [
    "train_dataset = train_dataset.take(int(len(train_dataset)*0.8))\n",
    "validation_dataset = train_dataset.skip(int(len(train_dataset)*0.8)).take(int(len(train_dataset)*0.2))\n",
    "print(len(train_dataset))\n",
    "print(len(validation_dataset))"
   ]
  },
  {
   "cell_type": "code",
   "execution_count": 10,
   "metadata": {},
   "outputs": [],
   "source": [
    "\n",
    "# from keras.models import Sequential\n",
    "# from keras.layers import Dense,LSTM,Bidirectional,Embedding\n",
    "\n",
    "# model = Sequential()\n",
    "\n",
    "# model.add(Embedding(MAX_FEATURES+1,32))\n",
    "# model.add(Bidirectional(LSTM(32,activation='tanh')))\n",
    "# model.add(Dense(128,activation='relu'))\n",
    "# model.add(Dense(256,activation='relu'))\n",
    "# model.add(Dense(128,activation='relu'))\n",
    "\n",
    "# model.add(Dense(6,activation='sigmoid'))\n",
    "# model.compile(loss=\"BinaryCrossentropy\",optimizer=\"adam\")\n",
    "# model.summary()\n"
   ]
  },
  {
   "cell_type": "code",
   "execution_count": 11,
   "metadata": {},
   "outputs": [],
   "source": [
    "# %%time\n",
    "# # The training process was extremely long (1 hour per epoch) so I trained the model on google colab and used GPU acceleration\n",
    "# history = model.fit(train_dataset,epochs=5,batch_size=BATCH_SIZE,validation_data=validation_dataset)"
   ]
  },
  {
   "cell_type": "code",
   "execution_count": 12,
   "metadata": {},
   "outputs": [],
   "source": [
    "# from pathlib import Path\n",
    "\n",
    "# model.save(\"text_moderation_model.h5\",save_format=\"h5\")\n",
    "# model_structure = model.to_json()\n",
    "# f = Path(\"text_moderation_structure.json\")\n",
    "# f.write_text(model_structure)"
   ]
  },
  {
   "cell_type": "code",
   "execution_count": 17,
   "metadata": {},
   "outputs": [],
   "source": [
    "from keras.models import model_from_json\n",
    "from pathlib import Path\n",
    "\n",
    "f = Path(\"../trained_models/text_moderation_structure_gc.json\")\n",
    "model_structure = f.read_text()\n",
    "trained_model = model_from_json(model_structure)\n",
    "trained_model.load_weights(\"../trained_models/text_moderation_model_gc.h5\")\n"
   ]
  },
  {
   "cell_type": "code",
   "execution_count": 18,
   "metadata": {},
   "outputs": [],
   "source": [
    "test_dataset = pd.read_csv(TEST_DATASET_PATH)\n",
    "test_dataset = fix_dataset_type(test_dataset)\n",
    "x_test = np.array(test_dataset[DATA_COLUMNS]).flatten()\n",
    "x_test = vectorizer(x_test)\n"
   ]
  },
  {
   "cell_type": "code",
   "execution_count": 19,
   "metadata": {},
   "outputs": [
    {
     "data": {
      "text/plain": [
       "4787"
      ]
     },
     "execution_count": 19,
     "metadata": {},
     "output_type": "execute_result"
    }
   ],
   "source": [
    "test_dataset = data.Dataset.from_tensor_slices(x_test)\n",
    "test_dataset = test_dataset.batch(BATCH_SIZE)\n",
    "test_dataset = test_dataset.prefetch(PREFETCH)\n",
    "len(test_dataset)"
   ]
  },
  {
   "cell_type": "code",
   "execution_count": 31,
   "metadata": {},
   "outputs": [
    {
     "name": "stdout",
     "output_type": "stream",
     "text": [
      "100/100 [==============================] - 14s 131ms/step\n"
     ]
    }
   ],
   "source": [
    "predictions = trained_model.predict(test_dataset.take(100))"
   ]
  },
  {
   "cell_type": "code",
   "execution_count": 35,
   "metadata": {},
   "outputs": [
    {
     "data": {
      "text/html": [
       "<div>\n",
       "<style scoped>\n",
       "    .dataframe tbody tr th:only-of-type {\n",
       "        vertical-align: middle;\n",
       "    }\n",
       "\n",
       "    .dataframe tbody tr th {\n",
       "        vertical-align: top;\n",
       "    }\n",
       "\n",
       "    .dataframe thead th {\n",
       "        text-align: right;\n",
       "    }\n",
       "</style>\n",
       "<table border=\"1\" class=\"dataframe\">\n",
       "  <thead>\n",
       "    <tr style=\"text-align: right;\">\n",
       "      <th></th>\n",
       "      <th>toxic</th>\n",
       "      <th>severe_toxic</th>\n",
       "      <th>obscene</th>\n",
       "      <th>threat</th>\n",
       "      <th>insult</th>\n",
       "      <th>identity_hate</th>\n",
       "    </tr>\n",
       "  </thead>\n",
       "  <tbody>\n",
       "    <tr>\n",
       "      <th>0</th>\n",
       "      <td>1</td>\n",
       "      <td>1</td>\n",
       "      <td>1</td>\n",
       "      <td>1</td>\n",
       "      <td>1</td>\n",
       "      <td>1</td>\n",
       "    </tr>\n",
       "    <tr>\n",
       "      <th>1</th>\n",
       "      <td>1</td>\n",
       "      <td>1</td>\n",
       "      <td>1</td>\n",
       "      <td>1</td>\n",
       "      <td>1</td>\n",
       "      <td>1</td>\n",
       "    </tr>\n",
       "    <tr>\n",
       "      <th>2</th>\n",
       "      <td>1</td>\n",
       "      <td>1</td>\n",
       "      <td>1</td>\n",
       "      <td>1</td>\n",
       "      <td>1</td>\n",
       "      <td>1</td>\n",
       "    </tr>\n",
       "    <tr>\n",
       "      <th>3</th>\n",
       "      <td>1</td>\n",
       "      <td>1</td>\n",
       "      <td>1</td>\n",
       "      <td>1</td>\n",
       "      <td>1</td>\n",
       "      <td>1</td>\n",
       "    </tr>\n",
       "    <tr>\n",
       "      <th>4</th>\n",
       "      <td>1</td>\n",
       "      <td>1</td>\n",
       "      <td>1</td>\n",
       "      <td>1</td>\n",
       "      <td>1</td>\n",
       "      <td>1</td>\n",
       "    </tr>\n",
       "    <tr>\n",
       "      <th>5</th>\n",
       "      <td>0</td>\n",
       "      <td>0</td>\n",
       "      <td>0</td>\n",
       "      <td>0</td>\n",
       "      <td>0</td>\n",
       "      <td>0</td>\n",
       "    </tr>\n",
       "    <tr>\n",
       "      <th>6</th>\n",
       "      <td>1</td>\n",
       "      <td>1</td>\n",
       "      <td>1</td>\n",
       "      <td>1</td>\n",
       "      <td>1</td>\n",
       "      <td>1</td>\n",
       "    </tr>\n",
       "    <tr>\n",
       "      <th>7</th>\n",
       "      <td>0</td>\n",
       "      <td>0</td>\n",
       "      <td>0</td>\n",
       "      <td>0</td>\n",
       "      <td>0</td>\n",
       "      <td>0</td>\n",
       "    </tr>\n",
       "    <tr>\n",
       "      <th>8</th>\n",
       "      <td>1</td>\n",
       "      <td>1</td>\n",
       "      <td>1</td>\n",
       "      <td>1</td>\n",
       "      <td>1</td>\n",
       "      <td>1</td>\n",
       "    </tr>\n",
       "    <tr>\n",
       "      <th>9</th>\n",
       "      <td>1</td>\n",
       "      <td>1</td>\n",
       "      <td>1</td>\n",
       "      <td>1</td>\n",
       "      <td>1</td>\n",
       "      <td>1</td>\n",
       "    </tr>\n",
       "  </tbody>\n",
       "</table>\n",
       "</div>"
      ],
      "text/plain": [
       "   toxic  severe_toxic  obscene  threat  insult  identity_hate\n",
       "0      1             1        1       1       1              1\n",
       "1      1             1        1       1       1              1\n",
       "2      1             1        1       1       1              1\n",
       "3      1             1        1       1       1              1\n",
       "4      1             1        1       1       1              1\n",
       "5      0             0        0       0       0              0\n",
       "6      1             1        1       1       1              1\n",
       "7      0             0        0       0       0              0\n",
       "8      1             1        1       1       1              1\n",
       "9      1             1        1       1       1              1"
      ]
     },
     "execution_count": 35,
     "metadata": {},
     "output_type": "execute_result"
    }
   ],
   "source": [
    "TEST_LABELS_PATH = path.join(BASE_DATASET_PATH,\"test_labels.csv\")\n",
    "test_labels_dataset = pd.read_csv(TEST_LABELS_PATH)\n",
    "true_labels = test_labels_dataset[LABEL_COLUMNS].iloc[0:3200]\n",
    "true_labels = true_labels.applymap(lambda x: 1 if x==-1 else x)\n",
    "true_labels.head(10)"
   ]
  },
  {
   "cell_type": "code",
   "execution_count": 41,
   "metadata": {},
   "outputs": [
    {
     "data": {
      "text/plain": [
       "19200"
      ]
     },
     "execution_count": 41,
     "metadata": {},
     "output_type": "execute_result"
    }
   ],
   "source": [
    "true_labels = np.array(true_labels).flatten()\n",
    "predictions = (predictions>0.5).astype(int)\n",
    "predictions = predictions.flatten()\n",
    "correct = [y==y_hat for (y,y_hat) in zip(true_labels,predictions)]\n",
    "# accuracy = (correct/len(predictions))*100\n",
    "# accuracy"
   ]
  },
  {
   "cell_type": "code",
   "execution_count": null,
   "metadata": {},
   "outputs": [
    {
     "name": "stdout",
     "output_type": "stream",
     "text": [
      "4/4 [==============================] - 0s 58ms/step\n"
     ]
    },
    {
     "data": {
      "text/plain": [
       "array([[    1,    49,   166, ...,     0,     0,     0],\n",
       "       [14582,  3203,   296, ...,     0,     0,     0],\n",
       "       [  816,   929,  2861, ...,     0,     0,     0],\n",
       "       ...,\n",
       "       [ 7180,    16,   703, ...,     0,     0,     0],\n",
       "       [  931, 34024,   169, ...,     0,     0,     0],\n",
       "       [91499,   981,   322, ...,     0,     0,     0]], dtype=int64)"
      ]
     },
     "execution_count": 86,
     "metadata": {},
     "output_type": "execute_result"
    }
   ],
   "source": [
    "\n",
    "# pred = trained_model.predict(tf.reshape(x_test[0:4],(4,1800)),batch_size=1)\n",
    "# # trained_model.predict()\n",
    "# pred = (pred>0.5).astype(int)\n",
    "# pred\n",
    "# x_test[0:4]\n",
    "# test_dataset.as_numpy_iterator().next()"
   ]
  },
  {
   "cell_type": "code",
   "execution_count": null,
   "metadata": {},
   "outputs": [],
   "source": []
  }
 ],
 "metadata": {
  "kernelspec": {
   "display_name": "Python 3.10.7 ('venv': venv)",
   "language": "python",
   "name": "python3"
  },
  "language_info": {
   "codemirror_mode": {
    "name": "ipython",
    "version": 3
   },
   "file_extension": ".py",
   "mimetype": "text/x-python",
   "name": "python",
   "nbconvert_exporter": "python",
   "pygments_lexer": "ipython3",
   "version": "3.10.7"
  },
  "orig_nbformat": 4,
  "vscode": {
   "interpreter": {
    "hash": "43f2e1adb01b6c00601f1e13068a3e8015dfa9668196630167adc397fda2011b"
   }
  }
 },
 "nbformat": 4,
 "nbformat_minor": 2
}
