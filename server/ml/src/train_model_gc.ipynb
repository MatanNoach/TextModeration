{
  "cells": [
    {
      "cell_type": "code",
      "execution_count": null,
      "metadata": {
        "colab": {
          "base_uri": "https://localhost:8080/"
        },
        "id": "8NTDLPY8ZIFF",
        "outputId": "217bb06a-ae54-47b5-d0b8-1894beb33235"
      },
      "outputs": [
        {
          "name": "stdout",
          "output_type": "stream",
          "text": [
            "Num GPUs Available:  1\n"
          ]
        }
      ],
      "source": [
        "import pandas as pd\n",
        "import numpy as np\n",
        "import tensorflow as tf\n",
        "from os import path\n",
        "\n",
        "print(\"Num GPUs Available: \", len(tf.config.list_physical_devices('GPU')))\n",
        "# Paths\n",
        "BASE_DATASET_PATH = \"./\"\n",
        "TRAIN_DATASET_PATH = path.join(BASE_DATASET_PATH,\"train_processed.csv\")\n",
        "TEST_DATASET_PATH = path.join(BASE_DATASET_PATH,\"test_processed.csv\")\n",
        "TEST_LABELS_PATH = path.join(BASE_DATASET_PATH,\"test_labels.csv\")\n",
        "\n",
        "# Common Columns\n",
        "DATA_COLUMNS = [\"comment_text\"]\n",
        "LABEL_COLUMNS = [\"toxic\",'severe_toxic','obscene','threat','insult','identity_hate']\n",
        "\n",
        "# Training Parameters\n",
        "SHUFFLE_BUFFER_SIZE=160000\n",
        "BATCH_SIZE = 16\n",
        "PREFETCH=8"
      ]
    },
    {
      "cell_type": "code",
      "execution_count": null,
      "metadata": {
        "colab": {
          "base_uri": "https://localhost:8080/",
          "height": 206
        },
        "id": "N2xNkl_7ZIFG",
        "outputId": "dc49f052-31a3-4f47-f249-98b74223f08e"
      },
      "outputs": [
        {
          "data": {
            "text/html": [
              "\n",
              "  <div id=\"df-c4181b82-568f-450d-91c0-3ab4d8c0f38c\">\n",
              "    <div class=\"colab-df-container\">\n",
              "      <div>\n",
              "<style scoped>\n",
              "    .dataframe tbody tr th:only-of-type {\n",
              "        vertical-align: middle;\n",
              "    }\n",
              "\n",
              "    .dataframe tbody tr th {\n",
              "        vertical-align: top;\n",
              "    }\n",
              "\n",
              "    .dataframe thead th {\n",
              "        text-align: right;\n",
              "    }\n",
              "</style>\n",
              "<table border=\"1\" class=\"dataframe\">\n",
              "  <thead>\n",
              "    <tr style=\"text-align: right;\">\n",
              "      <th></th>\n",
              "      <th>id</th>\n",
              "      <th>comment_text</th>\n",
              "      <th>toxic</th>\n",
              "      <th>severe_toxic</th>\n",
              "      <th>obscene</th>\n",
              "      <th>threat</th>\n",
              "      <th>insult</th>\n",
              "      <th>identity_hate</th>\n",
              "    </tr>\n",
              "  </thead>\n",
              "  <tbody>\n",
              "    <tr>\n",
              "      <th>0</th>\n",
              "      <td>0000997932d777bf</td>\n",
              "      <td>explanation edits made username hardcore metal...</td>\n",
              "      <td>0</td>\n",
              "      <td>0</td>\n",
              "      <td>0</td>\n",
              "      <td>0</td>\n",
              "      <td>0</td>\n",
              "      <td>0</td>\n",
              "    </tr>\n",
              "    <tr>\n",
              "      <th>1</th>\n",
              "      <td>000103f0d9cfb60f</td>\n",
              "      <td>daww match background colour im seemingly stuc...</td>\n",
              "      <td>0</td>\n",
              "      <td>0</td>\n",
              "      <td>0</td>\n",
              "      <td>0</td>\n",
              "      <td>0</td>\n",
              "      <td>0</td>\n",
              "    </tr>\n",
              "    <tr>\n",
              "      <th>2</th>\n",
              "      <td>000113f07ec002fd</td>\n",
              "      <td>hey man im really trying edit war guy constant...</td>\n",
              "      <td>0</td>\n",
              "      <td>0</td>\n",
              "      <td>0</td>\n",
              "      <td>0</td>\n",
              "      <td>0</td>\n",
              "      <td>0</td>\n",
              "    </tr>\n",
              "    <tr>\n",
              "      <th>3</th>\n",
              "      <td>0001b41b1c6bb37e</td>\n",
              "      <td>cant make real suggestion improvement wondered...</td>\n",
              "      <td>0</td>\n",
              "      <td>0</td>\n",
              "      <td>0</td>\n",
              "      <td>0</td>\n",
              "      <td>0</td>\n",
              "      <td>0</td>\n",
              "    </tr>\n",
              "    <tr>\n",
              "      <th>4</th>\n",
              "      <td>0001d958c54c6e35</td>\n",
              "      <td>sir hero chance remember page thats</td>\n",
              "      <td>0</td>\n",
              "      <td>0</td>\n",
              "      <td>0</td>\n",
              "      <td>0</td>\n",
              "      <td>0</td>\n",
              "      <td>0</td>\n",
              "    </tr>\n",
              "  </tbody>\n",
              "</table>\n",
              "</div>\n",
              "      <button class=\"colab-df-convert\" onclick=\"convertToInteractive('df-c4181b82-568f-450d-91c0-3ab4d8c0f38c')\"\n",
              "              title=\"Convert this dataframe to an interactive table.\"\n",
              "              style=\"display:none;\">\n",
              "        \n",
              "  <svg xmlns=\"http://www.w3.org/2000/svg\" height=\"24px\"viewBox=\"0 0 24 24\"\n",
              "       width=\"24px\">\n",
              "    <path d=\"M0 0h24v24H0V0z\" fill=\"none\"/>\n",
              "    <path d=\"M18.56 5.44l.94 2.06.94-2.06 2.06-.94-2.06-.94-.94-2.06-.94 2.06-2.06.94zm-11 1L8.5 8.5l.94-2.06 2.06-.94-2.06-.94L8.5 2.5l-.94 2.06-2.06.94zm10 10l.94 2.06.94-2.06 2.06-.94-2.06-.94-.94-2.06-.94 2.06-2.06.94z\"/><path d=\"M17.41 7.96l-1.37-1.37c-.4-.4-.92-.59-1.43-.59-.52 0-1.04.2-1.43.59L10.3 9.45l-7.72 7.72c-.78.78-.78 2.05 0 2.83L4 21.41c.39.39.9.59 1.41.59.51 0 1.02-.2 1.41-.59l7.78-7.78 2.81-2.81c.8-.78.8-2.07 0-2.86zM5.41 20L4 18.59l7.72-7.72 1.47 1.35L5.41 20z\"/>\n",
              "  </svg>\n",
              "      </button>\n",
              "      \n",
              "  <style>\n",
              "    .colab-df-container {\n",
              "      display:flex;\n",
              "      flex-wrap:wrap;\n",
              "      gap: 12px;\n",
              "    }\n",
              "\n",
              "    .colab-df-convert {\n",
              "      background-color: #E8F0FE;\n",
              "      border: none;\n",
              "      border-radius: 50%;\n",
              "      cursor: pointer;\n",
              "      display: none;\n",
              "      fill: #1967D2;\n",
              "      height: 32px;\n",
              "      padding: 0 0 0 0;\n",
              "      width: 32px;\n",
              "    }\n",
              "\n",
              "    .colab-df-convert:hover {\n",
              "      background-color: #E2EBFA;\n",
              "      box-shadow: 0px 1px 2px rgba(60, 64, 67, 0.3), 0px 1px 3px 1px rgba(60, 64, 67, 0.15);\n",
              "      fill: #174EA6;\n",
              "    }\n",
              "\n",
              "    [theme=dark] .colab-df-convert {\n",
              "      background-color: #3B4455;\n",
              "      fill: #D2E3FC;\n",
              "    }\n",
              "\n",
              "    [theme=dark] .colab-df-convert:hover {\n",
              "      background-color: #434B5C;\n",
              "      box-shadow: 0px 1px 3px 1px rgba(0, 0, 0, 0.15);\n",
              "      filter: drop-shadow(0px 1px 2px rgba(0, 0, 0, 0.3));\n",
              "      fill: #FFFFFF;\n",
              "    }\n",
              "  </style>\n",
              "\n",
              "      <script>\n",
              "        const buttonEl =\n",
              "          document.querySelector('#df-c4181b82-568f-450d-91c0-3ab4d8c0f38c button.colab-df-convert');\n",
              "        buttonEl.style.display =\n",
              "          google.colab.kernel.accessAllowed ? 'block' : 'none';\n",
              "\n",
              "        async function convertToInteractive(key) {\n",
              "          const element = document.querySelector('#df-c4181b82-568f-450d-91c0-3ab4d8c0f38c');\n",
              "          const dataTable =\n",
              "            await google.colab.kernel.invokeFunction('convertToInteractive',\n",
              "                                                     [key], {});\n",
              "          if (!dataTable) return;\n",
              "\n",
              "          const docLinkHtml = 'Like what you see? Visit the ' +\n",
              "            '<a target=\"_blank\" href=https://colab.research.google.com/notebooks/data_table.ipynb>data table notebook</a>'\n",
              "            + ' to learn more about interactive tables.';\n",
              "          element.innerHTML = '';\n",
              "          dataTable['output_type'] = 'display_data';\n",
              "          await google.colab.output.renderOutput(dataTable, element);\n",
              "          const docLink = document.createElement('div');\n",
              "          docLink.innerHTML = docLinkHtml;\n",
              "          element.appendChild(docLink);\n",
              "        }\n",
              "      </script>\n",
              "    </div>\n",
              "  </div>\n",
              "  "
            ],
            "text/plain": [
              "                 id                                       comment_text  toxic  \\\n",
              "0  0000997932d777bf  explanation edits made username hardcore metal...      0   \n",
              "1  000103f0d9cfb60f  daww match background colour im seemingly stuc...      0   \n",
              "2  000113f07ec002fd  hey man im really trying edit war guy constant...      0   \n",
              "3  0001b41b1c6bb37e  cant make real suggestion improvement wondered...      0   \n",
              "4  0001d958c54c6e35                sir hero chance remember page thats      0   \n",
              "\n",
              "   severe_toxic  obscene  threat  insult  identity_hate  \n",
              "0             0        0       0       0              0  \n",
              "1             0        0       0       0              0  \n",
              "2             0        0       0       0              0  \n",
              "3             0        0       0       0              0  \n",
              "4             0        0       0       0              0  "
            ]
          },
          "execution_count": 4,
          "metadata": {},
          "output_type": "execute_result"
        }
      ],
      "source": [
        "train_dataset = pd.read_csv('./train_processed.csv')\n",
        "train_dataset.head()"
      ]
    },
    {
      "cell_type": "code",
      "execution_count": null,
      "metadata": {
        "id": "2SbDfgfbZIFH"
      },
      "outputs": [],
      "source": [
        "def fix_dataset_type(dataset):\n",
        "    cols = dataset.select_dtypes(include=['object'])\n",
        "    for col in cols.columns.values:\n",
        "        dataset[col] = dataset[col].fillna('')\n",
        "    return dataset\n",
        "train_dataset = fix_dataset_type(train_dataset)"
      ]
    },
    {
      "cell_type": "code",
      "execution_count": null,
      "metadata": {
        "colab": {
          "base_uri": "https://localhost:8080/"
        },
        "id": "3g4ZXSwiZIFH",
        "outputId": "033d12e5-b804-4bc3-bd6f-51feb69e53dc"
      },
      "outputs": [
        {
          "data": {
            "text/plain": [
              "array(['explanation edits made username hardcore metallica fan reverted werent vandalism closure gas voted new york doll fac please dont remove template talk page since im retired now892053827',\n",
              "       'daww match background colour im seemingly stuck thanks talk 2151 january 11 2016 utc',\n",
              "       'hey man im really trying edit war guy constantly removing relevant information talking edits instead talk page seems care formatting actual info',\n",
              "       ...,\n",
              "       'spitzer umm there actual article prostitution ring crunch captain',\n",
              "       'look like actually put speedy first version deleted look',\n",
              "       'really dont think understand came idea bad right away kind community go bad idea go away instead helping rewrite'],\n",
              "      dtype=object)"
            ]
          },
          "execution_count": 6,
          "metadata": {},
          "output_type": "execute_result"
        }
      ],
      "source": [
        "x_train = np.array(train_dataset[DATA_COLUMNS])\n",
        "y_train = np.array(train_dataset[LABEL_COLUMNS])\n",
        "x_train = x_train.flatten()\n",
        "x_train"
      ]
    },
    {
      "cell_type": "code",
      "execution_count": null,
      "metadata": {
        "id": "FJl-l48jZIFI"
      },
      "outputs": [],
      "source": [
        "from keras.layers import TextVectorization\n",
        "\n",
        "vectorizer = TextVectorization(output_sequence_length=1800,output_mode='int')\n",
        "vectorizer.adapt(x_train)\n"
      ]
    },
    {
      "cell_type": "code",
      "execution_count": null,
      "metadata": {
        "colab": {
          "base_uri": "https://localhost:8080/"
        },
        "id": "-KSSOZeEZIFI",
        "outputId": "4365a124-3959-4954-9fea-07df89ce6854"
      },
      "outputs": [
        {
          "data": {
            "text/plain": [
              "245355"
            ]
          },
          "execution_count": 8,
          "metadata": {},
          "output_type": "execute_result"
        }
      ],
      "source": [
        "# Note - On windows this might not work due to encoding problem.\n",
        "# In order to fix that, you need to go to language settings -> Administrative language settings -> Change system locale -> and set checkbox of \"Use Unicode UTF-8...\"\n",
        "MAX_FEATURES = len(vectorizer.get_vocabulary())\n",
        "MAX_FEATURES"
      ]
    },
    {
      "cell_type": "code",
      "execution_count": null,
      "metadata": {
        "colab": {
          "base_uri": "https://localhost:8080/"
        },
        "id": "3qqzRFBCZIFI",
        "outputId": "48cbe2f2-a6ad-402b-fee7-a8663f3b70ee"
      },
      "outputs": [
        {
          "data": {
            "text/plain": [
              "<tf.Tensor: shape=(159571, 1800), dtype=int64, numpy=\n",
              "array([[   464,     55,     58, ...,      0,      0,      0],\n",
              "       [207879,    966,   1210, ...,      0,      0,      0],\n",
              "       [   322,    321,     16, ...,      0,      0,      0],\n",
              "       ...,\n",
              "       [ 29048,   6754,    278, ...,      0,      0,      0],\n",
              "       [    50,      9,    125, ...,      0,      0,      0],\n",
              "       [    61,     10,     13, ...,      0,      0,      0]])>"
            ]
          },
          "execution_count": 9,
          "metadata": {},
          "output_type": "execute_result"
        }
      ],
      "source": [
        "x_train = vectorizer(x_train)\n",
        "x_train"
      ]
    },
    {
      "cell_type": "code",
      "execution_count": null,
      "metadata": {
        "colab": {
          "base_uri": "https://localhost:8080/"
        },
        "id": "dmJQe0EHZIFI",
        "outputId": "94c276cb-8810-48cd-826c-1aca84e68965"
      },
      "outputs": [
        {
          "data": {
            "text/plain": [
              "9974"
            ]
          },
          "execution_count": 10,
          "metadata": {},
          "output_type": "execute_result"
        }
      ],
      "source": [
        "from tensorflow import data\n",
        "train_dataset = data.Dataset.from_tensor_slices((x_train,y_train))\n",
        "train_dataset = train_dataset.shuffle(buffer_size=SHUFFLE_BUFFER_SIZE)\n",
        "train_dataset = train_dataset.batch(BATCH_SIZE)\n",
        "train_dataset = train_dataset.prefetch(PREFETCH)\n",
        "len(train_dataset)"
      ]
    },
    {
      "cell_type": "code",
      "execution_count": null,
      "metadata": {
        "colab": {
          "base_uri": "https://localhost:8080/"
        },
        "id": "JOGi6f5bZIFI",
        "outputId": "4cabc68f-1d69-4644-c220-4490c7b3c7ba"
      },
      "outputs": [
        {
          "name": "stdout",
          "output_type": "stream",
          "text": [
            "7979\n",
            "1595\n"
          ]
        }
      ],
      "source": [
        "train_dataset = train_dataset.take(int(len(train_dataset)*0.8))\n",
        "validation_dataset = train_dataset.skip(int(len(train_dataset)*0.8)).take(int(len(train_dataset)*0.2))\n",
        "print(len(train_dataset))\n",
        "print(len(validation_dataset))"
      ]
    },
    {
      "cell_type": "code",
      "execution_count": null,
      "metadata": {
        "colab": {
          "base_uri": "https://localhost:8080/"
        },
        "id": "VoXQUO5PZIFI",
        "outputId": "243119e6-47ba-458a-da69-232db24df7e4"
      },
      "outputs": [
        {
          "name": "stdout",
          "output_type": "stream",
          "text": [
            "Model: \"sequential\"\n",
            "_________________________________________________________________\n",
            " Layer (type)                Output Shape              Param #   \n",
            "=================================================================\n",
            " embedding (Embedding)       (None, None, 32)          7851392   \n",
            "                                                                 \n",
            " bidirectional (Bidirectiona  (None, 64)               16640     \n",
            " l)                                                              \n",
            "                                                                 \n",
            " dense (Dense)               (None, 128)               8320      \n",
            "                                                                 \n",
            " dense_1 (Dense)             (None, 256)               33024     \n",
            "                                                                 \n",
            " dense_2 (Dense)             (None, 128)               32896     \n",
            "                                                                 \n",
            " dense_3 (Dense)             (None, 6)                 774       \n",
            "                                                                 \n",
            "=================================================================\n",
            "Total params: 7,943,046\n",
            "Trainable params: 7,943,046\n",
            "Non-trainable params: 0\n",
            "_________________________________________________________________\n"
          ]
        }
      ],
      "source": [
        "from keras.models import Sequential\n",
        "from keras.layers import Dense,LSTM,Bidirectional,Embedding\n",
        "\n",
        "model = Sequential()\n",
        "\n",
        "model.add(Embedding(MAX_FEATURES+1,32))\n",
        "model.add(Bidirectional(LSTM(32,activation='tanh')))\n",
        "model.add(Dense(128,activation='relu'))\n",
        "model.add(Dense(256,activation='relu'))\n",
        "model.add(Dense(128,activation='relu'))\n",
        "\n",
        "model.add(Dense(6,activation='sigmoid'))\n",
        "model.compile(loss=\"BinaryCrossentropy\",optimizer=\"adam\",metrics=['binary_accuracy'])\n",
        "model.summary()\n"
      ]
    },
    {
      "cell_type": "code",
      "execution_count": null,
      "metadata": {
        "colab": {
          "base_uri": "https://localhost:8080/"
        },
        "id": "t04DptsXZIFJ",
        "outputId": "015645aa-a51a-420e-de5e-bec9dddc9588"
      },
      "outputs": [
        {
          "name": "stdout",
          "output_type": "stream",
          "text": [
            "Epoch 1/5\n",
            "7979/7979 [==============================] - 788s 97ms/step - loss: 0.0600 - binary_accuracy: 0.9796 - val_loss: 0.0433 - val_binary_accuracy: 0.9832\n",
            "Epoch 2/5\n",
            "7979/7979 [==============================] - 757s 95ms/step - loss: 0.0434 - binary_accuracy: 0.9834 - val_loss: 0.0367 - val_binary_accuracy: 0.9856\n",
            "Epoch 3/5\n",
            "7979/7979 [==============================] - 735s 92ms/step - loss: 0.0372 - binary_accuracy: 0.9854 - val_loss: 0.0316 - val_binary_accuracy: 0.9873\n",
            "Epoch 4/5\n",
            "7979/7979 [==============================] - 737s 92ms/step - loss: 0.0323 - binary_accuracy: 0.9871 - val_loss: 0.0278 - val_binary_accuracy: 0.9896\n",
            "Epoch 5/5\n",
            "7979/7979 [==============================] - 751s 94ms/step - loss: 0.0280 - binary_accuracy: 0.9890 - val_loss: 0.0240 - val_binary_accuracy: 0.9909\n",
            "CPU times: user 1h 2min 40s, sys: 1min 5s, total: 1h 3min 45s\n",
            "Wall time: 1h 4min 10s\n"
          ]
        }
      ],
      "source": [
        "%%time\n",
        "with tf.device('/device:GPU:0'):\n",
        "  history = model.fit(train_dataset,epochs=5,batch_size=BATCH_SIZE,validation_data=validation_dataset)"
      ]
    },
    {
      "cell_type": "code",
      "execution_count": null,
      "metadata": {
        "colab": {
          "base_uri": "https://localhost:8080/",
          "height": 308
        },
        "id": "Fc-ocmG0OB5R",
        "outputId": "c6c57140-a0f7-4374-ecdf-3144f5222f65"
      },
      "outputs": [
        {
          "data": {
            "text/plain": [
              "<matplotlib.legend.Legend at 0x7fc9edffbf10>"
            ]
          },
          "execution_count": 40,
          "metadata": {},
          "output_type": "execute_result"
        },
        {
          "data": {
            "image/png": "[encoded data removed]",
            "text/plain": [
              "<Figure size 720x288 with 2 Axes>"
            ]
          },
          "metadata": {
            "needs_background": "light"
          },
          "output_type": "display_data"
        }
      ],
      "source": [
        "import matplotlib.pyplot as plt\n",
        "\n",
        "fig,ax = plt.subplots(1,2,figsize=(10, 4))\n",
        "\n",
        "fig.tight_layout(pad=2.0)\n",
        "\n",
        "ax[0].set_title(\"Accuracy\")\n",
        "ax[0].plot(history.history['binary_accuracy'],label='accuracy')\n",
        "ax[0].plot(history.history['val_binary_accuracy'],label='val_accuracy')\n",
        "ax[0].legend()\n",
        "\n",
        "ax[1].set_title(\"Loss\")\n",
        "ax[1].plot(history.history['loss'],label='loss')\n",
        "ax[1].plot(history.history['val_loss'],label='val_loss')\n",
        "ax[1].legend()"
      ]
    },
    {
      "cell_type": "code",
      "execution_count": null,
      "metadata": {
        "colab": {
          "base_uri": "https://localhost:8080/"
        },
        "id": "R9m6kYeRZIFJ",
        "outputId": "be4ff39d-7384-4f9e-c192-d0ba6e7b5c8e"
      },
      "outputs": [
        {
          "data": {
            "text/plain": [
              "3381"
            ]
          },
          "execution_count": 41,
          "metadata": {},
          "output_type": "execute_result"
        }
      ],
      "source": [
        "from pathlib import Path\n",
        "\n",
        "\n",
        "model.save(\"./text_moderation_model_gc.h5\",save_format=\"h5\")\n",
        "model_structure = model.to_json()\n",
        "f = Path(\"./text_moderation_structure_gc.json\")\n",
        "f.write_text(model_structure)"
      ]
    },
    {
      "cell_type": "code",
      "execution_count": null,
      "metadata": {
        "id": "muxjJbmLZIFJ"
      },
      "outputs": [],
      "source": [
        "val_x_set = x_train[int(len(x_train)*0.8):]\n",
        "with tf.device('/device:GPU:0'):\n",
        "  predictions = model.predict(val_x_set)"
      ]
    },
    {
      "cell_type": "code",
      "execution_count": null,
      "metadata": {
        "colab": {
          "base_uri": "https://localhost:8080/"
        },
        "id": "oH9hjxI7SFxH",
        "outputId": "5e651fcc-36ef-41c9-d8ce-634295c3afa1"
      },
      "outputs": [
        {
          "data": {
            "text/plain": [
              "99.09603634654552"
            ]
          },
          "execution_count": 62,
          "metadata": {},
          "output_type": "execute_result"
        }
      ],
      "source": [
        "predictions = (predictions>0.5).astype(int).flatten()\n",
        "val_y_set = y_train[int(len(y_train)*0.8):].flatten()\n",
        "correct = [(y==y_hat) for (y,y_hat) in zip(predictions,val_y_set)].count(1)\n",
        "accuracy = (correct/len(predictions))*100\n",
        "accuracy"
      ]
    },
    {
      "cell_type": "code",
      "execution_count": null,
      "metadata": {
        "id": "R-sxdlQ6U37L"
      },
      "outputs": [],
      "source": [
        "test_x_set = fix_dataset_type(pd.read_csv(TEST_DATASET_PATH))\n",
        "test_y_set = pd.read_csv(TEST_LABELS_PATH)\n",
        "good_rows = test_y_set[~test_y_set.isin([-1]).any(axis=1)]['id']\n",
        "\n",
        "test_x_set = test_x_set.set_index(\"id\").loc[good_rows]\n",
        "test_y_set = test_y_set.set_index(\"id\").loc[good_rows]\n",
        "\n",
        "test_x_set = np.array(test_x_set[DATA_COLUMNS]).flatten()\n",
        "test_y_set = np.array(test_y_set[LABEL_COLUMNS]).flatten()"
      ]
    },
    {
      "cell_type": "code",
      "execution_count": null,
      "metadata": {
        "colab": {
          "base_uri": "https://localhost:8080/"
        },
        "id": "6DDvXavmZ4Jd",
        "outputId": "5ba3f255-23f9-414c-9b5d-221dc8d96049"
      },
      "outputs": [
        {
          "data": {
            "text/plain": [
              "<tf.Tensor: shape=(63978, 1800), dtype=int64, numpy=\n",
              "array([[   56,   882,    13, ...,     0,     0,     0],\n",
              "       [  859,   383,   140, ...,     0,     0,     0],\n",
              "       [ 1021, 13395,   172, ...,     0,     0,     0],\n",
              "       ...,\n",
              "       [ 1977,    31,   723, ...,     0,     0,     0],\n",
              "       [ 5735,  5886,   806, ...,     0,     0,     0],\n",
              "       [14375, 23523,  3016, ...,     0,     0,     0]])>"
            ]
          },
          "execution_count": 101,
          "metadata": {},
          "output_type": "execute_result"
        }
      ],
      "source": [
        "test_x_set = vectorizer(test_x_set)\n",
        "test_x_set"
      ]
    },
    {
      "cell_type": "code",
      "execution_count": null,
      "metadata": {
        "id": "31diEV5-TyI_"
      },
      "outputs": [],
      "source": [
        "with tf.device('/device:GPU:0'):\n",
        "  predictions = model.predict(test_x_set,batch_size=BATCH_SIZE)"
      ]
    },
    {
      "cell_type": "code",
      "execution_count": null,
      "metadata": {
        "colab": {
          "base_uri": "https://localhost:8080/"
        },
        "id": "CMr2_b2SZi-N",
        "outputId": "02cc3827-f195-4a94-ea43-757ba17a8ff5"
      },
      "outputs": [
        {
          "data": {
            "text/plain": [
              "95.5448226994696"
            ]
          },
          "execution_count": 103,
          "metadata": {},
          "output_type": "execute_result"
        }
      ],
      "source": [
        "predictions = (predictions>0.5).astype(int).flatten()\n",
        "correct = [(y==y_hat) for (y,y_hat) in zip(predictions,test_y_set)].count(1)\n",
        "accuracy = (correct/len(predictions))*100\n",
        "accuracy"
      ]
    },
    {
      "cell_type": "code",
      "execution_count": null,
      "metadata": {
        "id": "sEW9vkjbaycu"
      },
      "outputs": [],
      "source": []
    }
  ],
  "metadata": {
    "accelerator": "GPU",
    "colab": {
      "provenance": []
    },
    "kernelspec": {
      "display_name": "Python 3.10.7 ('venv': venv)",
      "language": "python",
      "name": "python3"
    },
    "language_info": {
      "codemirror_mode": {
        "name": "ipython",
        "version": 3
      },
      "file_extension": ".py",
      "mimetype": "text/x-python",
      "name": "python",
      "nbconvert_exporter": "python",
      "pygments_lexer": "ipython3",
      "version": "3.10.7"
    },
    "orig_nbformat": 4,
    "vscode": {
      "interpreter": {
        "hash": "43f2e1adb01b6c00601f1e13068a3e8015dfa9668196630167adc397fda2011b"
      }
    }
  },
  "nbformat": 4,
  "nbformat_minor": 0
}
